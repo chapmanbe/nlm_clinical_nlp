{
 "cells": [
  {
   "cell_type": "markdown",
   "metadata": {},
   "source": [
    "# Classifying Documents"
   ]
  },
  {
   "cell_type": "markdown",
   "metadata": {},
   "source": [
    "In this notebook we demonstrate a basic document level classification of reports with respect to a single finding ( fever). We leverage the convenience of Pandas to read our data from a SQLite database and then use Pandas to add our classification as a new column in the dataframe.\n",
    "\n",
    "Many of the common pyConTextNLP tasks have been wrapped into functions contained in the [``radnlp``](https://github.com/chapmanbe/RadNLP) pacakge. We important multiple modules that will allow us to write concise code."
   ]
  },
  {
   "cell_type": "code",
   "execution_count": 2,
   "metadata": {
    "collapsed": false
   },
   "outputs": [
    {
     "name": "stderr",
     "output_type": "stream",
     "text": [
      "/opt/conda/lib/python3.5/site-packages/IPython/html.py:14: ShimWarning: The `IPython.html` package has been deprecated. You should import from `notebook` instead. `IPython.html.widgets` has moved to `ipywidgets`.\n",
      "  \"`IPython.html.widgets` has moved to `ipywidgets`.\", ShimWarning)\n"
     ]
    }
   ],
   "source": [
    "import pyConTextNLP.pyConTextGraph as pyConText\n",
    "import pyConTextNLP.itemData as itemData\n",
    "import pymysql\n",
    "import numpy as np\n",
    "import os\n",
    "import radnlp.io  as rio\n",
    "import radnlp.view as rview\n",
    "import radnlp.rules as rules\n",
    "import radnlp.schema as schema\n",
    "import radnlp.utils as utils\n",
    "import radnlp.split as split\n",
    "import radnlp.classifier as classifier\n",
    "import pandas as pd\n",
    "from IPython.display import clear_output, display, HTML, Image\n",
    "from IPython.html.widgets import interact, interactive, fixed\n",
    "from IPython.display import clear_output\n",
    "import ipywidgets as widgets\n",
    "from radnlp.data import classrslts \n",
    "import networkx as nx\n",
    "conn = pymysql.connect(host=\"mysql\",\n",
    "                       port=3306,user=\"jovyan\",\n",
    "                       passwd='jovyan',db='mimic2')"
   ]
  },
  {
   "cell_type": "code",
   "execution_count": 3,
   "metadata": {
    "collapsed": true
   },
   "outputs": [],
   "source": [
    "conn = pymysql.connect(host=\"mysql\",\n",
    "                       port=3306,user=\"jovyan\",\n",
    "                       passwd='jovyan',db='mimic2')"
   ]
  },
  {
   "cell_type": "markdown",
   "metadata": {},
   "source": [
    "## Annotation coloring scheme\n",
    "\n",
    "Later in the notebook we are going to provide an HTML display of the marked up documents. Here we specify what colors we want to use for each category we have defined."
   ]
  },
  {
   "cell_type": "code",
   "execution_count": 15,
   "metadata": {
    "collapsed": true
   },
   "outputs": [],
   "source": [
    "colors={\"critical_finding\":\"blue\",\n",
    "        \"pneumonia\":\"blue\",\n",
    "        \"pneumothorax\":\"blue\",\n",
    "        \"diverticulitis\":\"blue\",\n",
    "       \"definite_negated_existence\":\"red\",\n",
    "       \"probable_negated_existence\":\"indianred\",\n",
    "       \"ambivalent_existence\":\"orange\",\n",
    "       \"probable_existence\":\"forestgreen\",\n",
    "       \"definite_existence\":\"green\",\n",
    "       \"historical\":\"goldenrod\",\n",
    "       \"indication\":\"Pink\",\n",
    "       \"acute\":\"golden\"}"
   ]
  },
  {
   "cell_type": "markdown",
   "metadata": {},
   "source": [
    "### Explanation of ``getOptions``\n",
    "\n",
    "This is just kind of a port of a command line application where I'd use argparse to get the options.\n"
   ]
  },
  {
   "cell_type": "code",
   "execution_count": 37,
   "metadata": {
    "collapsed": true
   },
   "outputs": [],
   "source": [
    "def getOptions():\n",
    "    \"\"\"Generates arguments for specifying database and other parameters\"\"\"\n",
    "    options = {}\n",
    "    options['lexical_kb'] = [\"https://raw.githubusercontent.com/chapmanbe/pyConTextNLP/master/KB/lexical_kb_nlm.tsv\"]\n",
    "    options[\"schema\"] = \"https://raw.githubusercontent.com/chapmanbe/pyConTextNLP/master/KB/schema2.csv\"\n",
    "    options[\"rules\"] = \"https://raw.githubusercontent.com/chapmanbe/pyConTextNLP/master/KB/classificationRules3.csv\" \n",
    "    return options"
   ]
  },
  {
   "cell_type": "markdown",
   "metadata": {},
   "source": [
    "## Define our domain terms\n",
    "\n",
    "#### You need to define four-tuples for the targets we want to find and the modifiers we are interested in\n",
    "\n",
    "#### Each four-tuple needs the following items\n",
    "\n",
    "1. a **lexical term** (e.g. \"pulmonary embolism\")\n",
    "1. a **category** (e.g. \"critical_finding\")\n",
    "1. a **regular expression** to capture the lexical term (can be an empty string)\n",
    "1. a **rule** that describes which direction the modifier operates in the sentence (an empty string for a target)\n",
    "\n",
    "\n",
    "#### Edit these lines in the code block below\n",
    "```Python\n",
    "targets.extend([[\"pulmonary embolism\", \"CRITICAL_FINDING\", \"\", \"\"],\n",
    "                   [\"pneumonia\", \"CRITICAL_FINDING\", \"\", \"\"]])\n",
    "modifiers.extend(([\"no definite\", \"PROBABLE_NEGATED_EXISTENCE\", \"\", \"forward\"],))\n",
    "```"
   ]
  },
  {
   "cell_type": "code",
   "execution_count": 38,
   "metadata": {
    "collapsed": true
   },
   "outputs": [],
   "source": [
    "def get_kb_rules_schema(options):\n",
    "    \"\"\"\n",
    "    Get the relevant kb, rules, and schema.\n",
    "    \n",
    "    \"\"\"\n",
    "\n",
    "    _radnlp_rules = rules.read_rules(options[\"rules\"])\n",
    "    _schema = schema.read_schema(options[\"schema\"])\n",
    "    \n",
    "    modifiers = itemData.itemData()\n",
    "    targets = itemData.itemData()\n",
    "    for kb in options['lexical_kb']:\n",
    "        modifiers.extend( itemData.instantiateFromCSVtoitemData(kb) )\n",
    "    targets.extend([[\"pulmonary embolism\", \"CRITICAL_FINDING\", \"\", \"\"],\n",
    "                   [\"pneumonia\", \"CRITICAL_FINDING\", \"\", \"\"]])\n",
    "    modifiers.extend(([\"no definite\", \"PROBABLE_NEGATED_EXISTENCE\", \"\", \"forward\"],))\n",
    "    return {\"rules\":_radnlp_rules,\n",
    "            \"schema\":_schema,\n",
    "            \"modifiers\":modifiers,\n",
    "            \"targets\":targets}\n",
    "    "
   ]
  },
  {
   "cell_type": "code",
   "execution_count": 39,
   "metadata": {
    "collapsed": true
   },
   "outputs": [],
   "source": [
    "\n",
    "def analyze_report(report, modifiers, targets, rules, schema):\n",
    "    \"\"\"\n",
    "    given an individual radiology report, creates a pyConTextGraph\n",
    "    object that contains the context markup\n",
    "    report: a text string containing the radiology reports\n",
    "    \"\"\"\n",
    "    markup = utils.mark_report(split.get_sentences(report),\n",
    "                         modifiers,\n",
    "                         targets)\n",
    "    \n",
    "    clssfy =   classifier.classify_document_targets(markup,\n",
    "                                          rules[0],\n",
    "                                          rules[1],\n",
    "                                          rules[2],\n",
    "                                          schema)\n",
    "    return classrslts(context_document=markup, exam_type=\"ctpa\", report_text=report, classification_result=clssfy)"
   ]
  },
  {
   "cell_type": "code",
   "execution_count": 40,
   "metadata": {
    "collapsed": false
   },
   "outputs": [],
   "source": [
    "options = getOptions()\n",
    "kb = get_kb_rules_schema(options)\n",
    "#data = data.dropna()"
   ]
  },
  {
   "cell_type": "markdown",
   "metadata": {},
   "source": [
    "## Read the Data\n",
    "\n",
    "We are using the MIMICII Clinic Data, the complete electronic medical record for ICU patients. We are only using the MIMIC2 demo data set as no data use agreement is required, as the records are for 4000 deceased individuals. The data are stored in a MySQL database. We use Pandas to read the reports in, limiting ourselves to radiology reports for individuals with an ICD9 code of pulmonary embolism."
   ]
  },
  {
   "cell_type": "code",
   "execution_count": 41,
   "metadata": {
    "collapsed": false
   },
   "outputs": [
    {
     "data": {
      "text/html": [
       "<div>\n",
       "<table border=\"1\" class=\"dataframe\">\n",
       "  <thead>\n",
       "    <tr style=\"text-align: right;\">\n",
       "      <th></th>\n",
       "      <th>subject_id</th>\n",
       "      <th>text</th>\n",
       "      <th>code</th>\n",
       "    </tr>\n",
       "  </thead>\n",
       "  <tbody>\n",
       "    <tr>\n",
       "      <th>0</th>\n",
       "      <td>150</td>\n",
       "      <td>\\n\\n\\n     DATE: [**2721-6-30**] 9:45 PM\\n    ...</td>\n",
       "      <td>415.19</td>\n",
       "    </tr>\n",
       "    <tr>\n",
       "      <th>1</th>\n",
       "      <td>150</td>\n",
       "      <td>\\n\\n\\n     DATE: [**2721-7-1**] 4:01 PM\\n     ...</td>\n",
       "      <td>415.19</td>\n",
       "    </tr>\n",
       "    <tr>\n",
       "      <th>2</th>\n",
       "      <td>150</td>\n",
       "      <td>\\n\\n\\n     DATE: [**2721-7-2**] 4:17 PM\\n     ...</td>\n",
       "      <td>415.19</td>\n",
       "    </tr>\n",
       "    <tr>\n",
       "      <th>3</th>\n",
       "      <td>150</td>\n",
       "      <td>\\n\\n\\n     BONE SCAN                          ...</td>\n",
       "      <td>415.19</td>\n",
       "    </tr>\n",
       "    <tr>\n",
       "      <th>4</th>\n",
       "      <td>150</td>\n",
       "      <td>\\n\\n\\n     DATE: [**2721-7-12**] 5:24 PM\\n    ...</td>\n",
       "      <td>415.19</td>\n",
       "    </tr>\n",
       "    <tr>\n",
       "      <th>5</th>\n",
       "      <td>1165</td>\n",
       "      <td>\\n\\n\\n     DATE: [**3099-10-20**] 5:55 PM\\n   ...</td>\n",
       "      <td>415.11</td>\n",
       "    </tr>\n",
       "    <tr>\n",
       "      <th>6</th>\n",
       "      <td>1165</td>\n",
       "      <td>\\n\\n\\n     PERSANTINE MIBI                    ...</td>\n",
       "      <td>415.11</td>\n",
       "    </tr>\n",
       "    <tr>\n",
       "      <th>7</th>\n",
       "      <td>1165</td>\n",
       "      <td>\\n\\n\\n     DATE: [**3099-10-21**] 12:07 AM\\n  ...</td>\n",
       "      <td>415.11</td>\n",
       "    </tr>\n",
       "    <tr>\n",
       "      <th>8</th>\n",
       "      <td>1165</td>\n",
       "      <td>\\n\\n\\n     DATE: [**3099-10-23**] 9:52 AM\\n   ...</td>\n",
       "      <td>415.11</td>\n",
       "    </tr>\n",
       "    <tr>\n",
       "      <th>9</th>\n",
       "      <td>1165</td>\n",
       "      <td>\\n\\n\\n     DATE: [**3099-10-23**] 1:34 PM\\n   ...</td>\n",
       "      <td>415.11</td>\n",
       "    </tr>\n",
       "  </tbody>\n",
       "</table>\n",
       "</div>"
      ],
      "text/plain": [
       "   subject_id                                               text    code\n",
       "0         150  \\n\\n\\n     DATE: [**2721-6-30**] 9:45 PM\\n    ...  415.19\n",
       "1         150  \\n\\n\\n     DATE: [**2721-7-1**] 4:01 PM\\n     ...  415.19\n",
       "2         150  \\n\\n\\n     DATE: [**2721-7-2**] 4:17 PM\\n     ...  415.19\n",
       "3         150  \\n\\n\\n     BONE SCAN                          ...  415.19\n",
       "4         150  \\n\\n\\n     DATE: [**2721-7-12**] 5:24 PM\\n    ...  415.19\n",
       "5        1165  \\n\\n\\n     DATE: [**3099-10-20**] 5:55 PM\\n   ...  415.11\n",
       "6        1165  \\n\\n\\n     PERSANTINE MIBI                    ...  415.11\n",
       "7        1165  \\n\\n\\n     DATE: [**3099-10-21**] 12:07 AM\\n  ...  415.11\n",
       "8        1165  \\n\\n\\n     DATE: [**3099-10-23**] 9:52 AM\\n   ...  415.11\n",
       "9        1165  \\n\\n\\n     DATE: [**3099-10-23**] 1:34 PM\\n   ...  415.11"
      ]
     },
     "execution_count": 41,
     "metadata": {},
     "output_type": "execute_result"
    }
   ],
   "source": [
    "data = \\\n",
    "pd.read_sql(\"\"\"SELECT noteevents.subject_id, \n",
    "                      noteevents.text, \n",
    "                      icd9.code \n",
    "               FROM noteevents INNER JOIN icd9 ON \n",
    "                      noteevents.subject_id = icd9.subject_id \n",
    "               WHERE (   icd9.code LIKE '415.1%'\n",
    "                      ) \n",
    "                      AND noteevents.category = 'RADIOLOGY_REPORT'\"\"\",\n",
    "            conn).drop_duplicates()\n",
    "data.head(10)"
   ]
  },
  {
   "cell_type": "markdown",
   "metadata": {},
   "source": [
    "## Find Impression Sections and Do Simple Search for Chest and CT\n",
    "\n",
    "While these radiology reports are all for patients with a pulmonary embolism diagnosis, the images are acquired for lots of reasons. To try to enrich our data set we do some key word filtering to get chest-oriented images."
   ]
  },
  {
   "cell_type": "code",
   "execution_count": 42,
   "metadata": {
    "collapsed": false
   },
   "outputs": [
    {
     "name": "stdout",
     "output_type": "stream",
     "text": [
      "(661, 6)\n"
     ]
    },
    {
     "data": {
      "text/html": [
       "<div>\n",
       "<table border=\"1\" class=\"dataframe\">\n",
       "  <thead>\n",
       "    <tr style=\"text-align: right;\">\n",
       "      <th></th>\n",
       "      <th>index</th>\n",
       "      <th>subject_id</th>\n",
       "      <th>text</th>\n",
       "      <th>code</th>\n",
       "      <th>impression</th>\n",
       "      <th>chest</th>\n",
       "    </tr>\n",
       "  </thead>\n",
       "  <tbody>\n",
       "    <tr>\n",
       "      <th>0</th>\n",
       "      <td>0</td>\n",
       "      <td>150</td>\n",
       "      <td>\\n\\n\\n     DATE: [**2721-6-30**] 9:45 PM\\n    ...</td>\n",
       "      <td>415.19</td>\n",
       "      <td>Small focal opacity in right upper lobe and ...</td>\n",
       "      <td>True</td>\n",
       "    </tr>\n",
       "    <tr>\n",
       "      <th>1</th>\n",
       "      <td>5</td>\n",
       "      <td>1165</td>\n",
       "      <td>\\n\\n\\n     DATE: [**3099-10-20**] 5:55 PM\\n   ...</td>\n",
       "      <td>415.11</td>\n",
       "      <td>Limited study.  The tracheal component of th...</td>\n",
       "      <td>True</td>\n",
       "    </tr>\n",
       "    <tr>\n",
       "      <th>2</th>\n",
       "      <td>10</td>\n",
       "      <td>1165</td>\n",
       "      <td>\\n\\n\\n     DATE: [**3099-10-24**] 3:59 PM\\n   ...</td>\n",
       "      <td>415.11</td>\n",
       "      <td>\\n     \\n     Tracheal stent extending from th...</td>\n",
       "      <td>True</td>\n",
       "    </tr>\n",
       "    <tr>\n",
       "      <th>3</th>\n",
       "      <td>18</td>\n",
       "      <td>1165</td>\n",
       "      <td>\\n\\n\\n     DATE: [**3099-11-4**] 11:04 PM\\n   ...</td>\n",
       "      <td>415.11</td>\n",
       "      <td>\\n     \\n     Increased density in the retroca...</td>\n",
       "      <td>True</td>\n",
       "    </tr>\n",
       "    <tr>\n",
       "      <th>4</th>\n",
       "      <td>25</td>\n",
       "      <td>1165</td>\n",
       "      <td>\\n\\n\\n     DATE: [**3099-11-6**] 5:36 PM\\n    ...</td>\n",
       "      <td>415.11</td>\n",
       "      <td>\\n     1.  Pulmonary embolism with  filling de...</td>\n",
       "      <td>True</td>\n",
       "    </tr>\n",
       "  </tbody>\n",
       "</table>\n",
       "</div>"
      ],
      "text/plain": [
       "   index  subject_id                                               text  \\\n",
       "0      0         150  \\n\\n\\n     DATE: [**2721-6-30**] 9:45 PM\\n    ...   \n",
       "1      5        1165  \\n\\n\\n     DATE: [**3099-10-20**] 5:55 PM\\n   ...   \n",
       "2     10        1165  \\n\\n\\n     DATE: [**3099-10-24**] 3:59 PM\\n   ...   \n",
       "3     18        1165  \\n\\n\\n     DATE: [**3099-11-4**] 11:04 PM\\n   ...   \n",
       "4     25        1165  \\n\\n\\n     DATE: [**3099-11-6**] 5:36 PM\\n    ...   \n",
       "\n",
       "     code                                         impression chest  \n",
       "0  415.19    Small focal opacity in right upper lobe and ...  True  \n",
       "1  415.11    Limited study.  The tracheal component of th...  True  \n",
       "2  415.11  \\n     \\n     Tracheal stent extending from th...  True  \n",
       "3  415.11  \\n     \\n     Increased density in the retroca...  True  \n",
       "4  415.11  \\n     1.  Pulmonary embolism with  filling de...  True  "
      ]
     },
     "execution_count": 42,
     "metadata": {},
     "output_type": "execute_result"
    }
   ],
   "source": [
    "doc_split=[\"IMPRESSION:\", \"INTERPRETATION:\", \"CONCLUSION:\"]\n",
    "\n",
    "def find_impression(text, split):\n",
    "    for term in split:\n",
    "        if term in text:\n",
    "            return text.split(term)[1]\n",
    "    return np.NaN\n",
    "\n",
    "data[\"impression\"] = data.apply(lambda row: find_impression(row[\"text\"], doc_split), axis=1)\n",
    "data = data.dropna(axis=0, inplace=False)\n",
    "data[\"chest\"] = data.apply(lambda x: 'chest' in x[\"text\"].lower() and 'ct' in x[\"text\"].lower(), axis=1)\n",
    "data = data[data[\"chest\"] == True]\n",
    "data = data.reset_index()\n",
    "print(data.shape)\n",
    "data.head()"
   ]
  },
  {
   "cell_type": "markdown",
   "metadata": {},
   "source": [
    "## Document Markup and Classification\n",
    "\n",
    "We are going to be doing a lot behind the scenes here. We've got some code that is going to take our lexical and domain definitions, markup our documents according to these definitions and use pyConTextNLP to assign relationships between the concepts for each sentence int he document. Finally, we take a schema that defines how we are going to classify our documents, based on the sentence level markup. The schema we are going to use here is an ordinal schema where we account for existence, uncertainty, and acuity. The document classification is basically a maximum function: the document is assigned the maximum score of any sentence in the document.\n",
    "\n",
    "We now need to apply our schema to the reports. Since our data is in a Pandas data frame, the easiest way to process our reports is with the DataFrame [``apply``](http://pandas.pydata.org/pandas-docs/stable/generated/pandas.DataFrame.apply.html) method.\n",
    "\n",
    "* We use ``lambda`` to create an anonymous function which basically just applies ``analyze_report`` to the ``\"impression\"`` column with the modifiers, targets, etc. that we have read in separately.\n",
    "* ``analyze_report`` returns a dictionary with ``keys`` as any identified targets defined in the ``\"targets\"`` file and values as a tuple with values:\n",
    "    * The schema value that was selected for the document\n",
    "    * The node (evidence) that was used for selecting that schema value\n",
    "    "
   ]
  },
  {
   "cell_type": "code",
   "execution_count": 46,
   "metadata": {
    "collapsed": false
   },
   "outputs": [
    {
     "data": {
      "text/html": [
       "<div>\n",
       "<table border=\"1\" class=\"dataframe\">\n",
       "  <thead>\n",
       "    <tr style=\"text-align: right;\">\n",
       "      <th></th>\n",
       "      <th>index</th>\n",
       "      <th>subject_id</th>\n",
       "      <th>text</th>\n",
       "      <th>code</th>\n",
       "      <th>impression</th>\n",
       "      <th>chest</th>\n",
       "      <th>pe rslt</th>\n",
       "    </tr>\n",
       "  </thead>\n",
       "  <tbody>\n",
       "    <tr>\n",
       "      <th>0</th>\n",
       "      <td>0</td>\n",
       "      <td>150</td>\n",
       "      <td>\\n\\n\\n     DATE: [**2721-6-30**] 9:45 PM\\n    ...</td>\n",
       "      <td>415.19</td>\n",
       "      <td>Small focal opacity in right upper lobe and ...</td>\n",
       "      <td>True</td>\n",
       "      <td>(__________________________________________\\n,...</td>\n",
       "    </tr>\n",
       "    <tr>\n",
       "      <th>1</th>\n",
       "      <td>5</td>\n",
       "      <td>1165</td>\n",
       "      <td>\\n\\n\\n     DATE: [**3099-10-20**] 5:55 PM\\n   ...</td>\n",
       "      <td>415.11</td>\n",
       "      <td>Limited study.  The tracheal component of th...</td>\n",
       "      <td>True</td>\n",
       "      <td>(__________________________________________\\n,...</td>\n",
       "    </tr>\n",
       "    <tr>\n",
       "      <th>2</th>\n",
       "      <td>10</td>\n",
       "      <td>1165</td>\n",
       "      <td>\\n\\n\\n     DATE: [**3099-10-24**] 3:59 PM\\n   ...</td>\n",
       "      <td>415.11</td>\n",
       "      <td>\\n     \\n     Tracheal stent extending from th...</td>\n",
       "      <td>True</td>\n",
       "      <td>(__________________________________________\\n,...</td>\n",
       "    </tr>\n",
       "    <tr>\n",
       "      <th>3</th>\n",
       "      <td>18</td>\n",
       "      <td>1165</td>\n",
       "      <td>\\n\\n\\n     DATE: [**3099-11-4**] 11:04 PM\\n   ...</td>\n",
       "      <td>415.11</td>\n",
       "      <td>\\n     \\n     Increased density in the retroca...</td>\n",
       "      <td>True</td>\n",
       "      <td>(__________________________________________\\n,...</td>\n",
       "    </tr>\n",
       "    <tr>\n",
       "      <th>4</th>\n",
       "      <td>25</td>\n",
       "      <td>1165</td>\n",
       "      <td>\\n\\n\\n     DATE: [**3099-11-6**] 5:36 PM\\n    ...</td>\n",
       "      <td>415.11</td>\n",
       "      <td>\\n     1.  Pulmonary embolism with  filling de...</td>\n",
       "      <td>True</td>\n",
       "      <td>(__________________________________________\\n,...</td>\n",
       "    </tr>\n",
       "  </tbody>\n",
       "</table>\n",
       "</div>"
      ],
      "text/plain": [
       "   index  subject_id                                               text  \\\n",
       "0      0         150  \\n\\n\\n     DATE: [**2721-6-30**] 9:45 PM\\n    ...   \n",
       "1      5        1165  \\n\\n\\n     DATE: [**3099-10-20**] 5:55 PM\\n   ...   \n",
       "2     10        1165  \\n\\n\\n     DATE: [**3099-10-24**] 3:59 PM\\n   ...   \n",
       "3     18        1165  \\n\\n\\n     DATE: [**3099-11-4**] 11:04 PM\\n   ...   \n",
       "4     25        1165  \\n\\n\\n     DATE: [**3099-11-6**] 5:36 PM\\n    ...   \n",
       "\n",
       "     code                                         impression chest  \\\n",
       "0  415.19    Small focal opacity in right upper lobe and ...  True   \n",
       "1  415.11    Limited study.  The tracheal component of th...  True   \n",
       "2  415.11  \\n     \\n     Tracheal stent extending from th...  True   \n",
       "3  415.11  \\n     \\n     Increased density in the retroca...  True   \n",
       "4  415.11  \\n     1.  Pulmonary embolism with  filling de...  True   \n",
       "\n",
       "                                             pe rslt  \n",
       "0  (__________________________________________\\n,...  \n",
       "1  (__________________________________________\\n,...  \n",
       "2  (__________________________________________\\n,...  \n",
       "3  (__________________________________________\\n,...  \n",
       "4  (__________________________________________\\n,...  "
      ]
     },
     "execution_count": 46,
     "metadata": {},
     "output_type": "execute_result"
    }
   ],
   "source": [
    "data[\"pe rslt\"] = \\\n",
    "    data.apply(lambda x: analyze_report(x[\"impression\"], \n",
    "                                         kb[\"modifiers\"], \n",
    "                                         kb[\"targets\"],\n",
    "                                         kb[\"rules\"],\n",
    "                                         kb[\"schema\"]), axis=1)\n",
    "data.head()"
   ]
  },
  {
   "cell_type": "code",
   "execution_count": 44,
   "metadata": {
    "collapsed": false
   },
   "outputs": [],
   "source": [
    "def view_markup(reports, colors):\n",
    "    @interact(i=widgets.IntSlider(min=0, max=len(reports)-1))\n",
    "    def _view_markup(i):\n",
    "        markup = reports[\"pe rslt\"][i]\n",
    "        rview.markup_to_pydot(markup)\n",
    "        display(Image(\"tmp.png\"))\n",
    "        mt = rview.markup_to_html(markup, color_map=colors)\n",
    "\n",
    "        display(HTML(mt))"
   ]
  },
  {
   "cell_type": "code",
   "execution_count": 45,
   "metadata": {
    "collapsed": false
   },
   "outputs": [
    {
     "data": {
      "image/png": "[encoded data removed]",
      "text/plain": [
       "<IPython.core.display.Image object>"
      ]
     },
     "metadata": {},
     "output_type": "display_data"
    },
    {
     "data": {
      "text/html": [
       "\n",
       "          <table style=\"width:100\">\n",
       "          <caption>PE Finder Case Review</caption>\n",
       "          <tr><th>report</th><th>classification</th></tr>\n",
       "          <tr><td width='500'><p>  1) Satisfactory position of lines and tubes as described above. No pneumothorax. 2) Progression of diffuse bilateral air space disease, most prominent in left mid and lower lung zone and right apex. This most likely represents multifocal <span style=\"color: blue;\">pneumonia</span> in a patient with fever and infected sputum. </p></td><td width='400'><b>critical_finding</b> (Positive/Certain/Acute)</td></tr>\n",
       "          </table>"
      ],
      "text/plain": [
       "<IPython.core.display.HTML object>"
      ]
     },
     "metadata": {},
     "output_type": "display_data"
    }
   ],
   "source": [
    "view_markup(data, colors)"
   ]
  },
  {
   "cell_type": "code",
   "execution_count": null,
   "metadata": {
    "collapsed": true
   },
   "outputs": [],
   "source": []
  }
 ],
 "metadata": {
  "kernelspec": {
   "display_name": "Python 3",
   "language": "python",
   "name": "python3"
  },
  "language_info": {
   "codemirror_mode": {
    "name": "ipython",
    "version": 3
   },
   "file_extension": ".py",
   "mimetype": "text/x-python",
   "name": "python",
   "nbconvert_exporter": "python",
   "pygments_lexer": "ipython3",
   "version": "3.5.2"
  },
  "widgets": {
   "state": {
    "e09f2e2a3835412abc9e54b77f95a4ad": {
     "views": [
      {
       "cell_index": 18
      }
     ]
    }
   },
   "version": "1.2.0"
  }
 },
 "nbformat": 4,
 "nbformat_minor": 0
}
