{
 "cells": [
  {
   "cell_type": "markdown",
   "metadata": {},
   "source": [
    "# Processing Multisentence Documents"
   ]
  },
  {
   "cell_type": "code",
   "execution_count": 1,
   "metadata": {
    "collapsed": false
   },
   "outputs": [],
   "source": [
    "import pyConTextNLP.pyConTextGraph as pyConText\n",
    "import pyConTextNLP.itemData as itemData\n",
    "from textblob import TextBlob\n",
    "import networkx as nx\n",
    "import pyConTextNLP.display.html as html\n",
    "from IPython.display import display, HTML"
   ]
  },
  {
   "cell_type": "code",
   "execution_count": 2,
   "metadata": {
    "collapsed": true
   },
   "outputs": [],
   "source": [
    "reports = [\n",
    "    \"\"\"IMPRESSION: Evaluation limited by lack of IV contrast; however, no evidence of\n",
    "      bowel obstruction or mass identified within the abdomen or pelvis. Non-specific interstitial opacities and bronchiectasis seen at the right\n",
    "     base, suggestive of post-inflammatory changes.\"\"\",\n",
    "    \"\"\"IMPRESSION: Evidence of early pulmonary vascular congestion and interstitial edema. Probable scarring at the medial aspect of the right lung base, with no\n",
    "     definite consolidation.\"\"\"\n",
    "    ,\n",
    "    \"\"\"IMPRESSION:\n",
    "     \n",
    "     1.  2.0 cm cyst of the right renal lower pole.  Otherwise, normal appearance\n",
    "     of the right kidney with patent vasculature and no sonographic evidence of\n",
    "     renal artery stenosis.\n",
    "     2.  Surgically absent left kidney.\"\"\",\n",
    "    \"\"\"IMPRESSION:  No pneumothorax.\"\"\",\n",
    "    \"\"\"IMPRESSION: No definite pneumothorax\"\"\"\n",
    "    \"\"\"IMPRESSION:  New opacity at the left lower lobe consistent with pneumonia.\"\"\"\n",
    "]"
   ]
  },
  {
   "cell_type": "code",
   "execution_count": 3,
   "metadata": {
    "collapsed": false
   },
   "outputs": [],
   "source": [
    "\n",
    "\n",
    "modifiers = itemData.instantiateFromCSVtoitemData(\n",
    "    \"https://raw.githubusercontent.com/chapmanbe/pyConTextNLP/master/KB/lexical_kb_05042016.tsv\")\n",
    "targets = itemData.instantiateFromCSVtoitemData(\n",
    "    \"https://raw.githubusercontent.com/chapmanbe/pyConTextNLP/master/KB/utah_crit.tsv\")\n",
    "\n"
   ]
  },
  {
   "cell_type": "markdown",
   "metadata": {},
   "source": [
    "## Define ``markup_sentence``\n",
    "\n",
    "We are putting the functionality we went through in the previous two notebooks ([BasicSentenceMarkup](./BasicSentenceMarkup.ipynb) and [BasicSentenceMarkupPart2](BasicSentenceMarkupPart2.ipynb)) into a function ``markup_sentence``. We add one step to the function: ``dropInactiveModifiers`` will delete any modifier node that does not get attached to a target node."
   ]
  },
  {
   "cell_type": "code",
   "execution_count": 4,
   "metadata": {
    "collapsed": true
   },
   "outputs": [],
   "source": [
    "def markup_sentence(s, modifiers, targets, prune_inactive=True):\n",
    "    \"\"\"\n",
    "    \"\"\"\n",
    "    markup = pyConText.ConTextMarkup()\n",
    "    markup.setRawText(s)\n",
    "    markup.cleanText()\n",
    "    markup.markItems(modifiers, mode=\"modifier\")\n",
    "    markup.markItems(targets, mode=\"target\")\n",
    "    markup.pruneMarks()\n",
    "    markup.dropMarks('Exclusion')\n",
    "    # apply modifiers to any targets within the modifiers scope\n",
    "    markup.applyModifiers()\n",
    "    markup.pruneSelfModifyingRelationships()\n",
    "    if prune_inactive:\n",
    "        markup.dropInactiveModifiers()\n",
    "    return markup"
   ]
  },
  {
   "cell_type": "code",
   "execution_count": 5,
   "metadata": {
    "collapsed": false
   },
   "outputs": [
    {
     "name": "stdout",
     "output_type": "stream",
     "text": [
      "IMPRESSION: Evaluation limited by lack of IV contrast; however, no evidence of\n",
      "      bowel obstruction or mass identified within the abdomen or pelvis. Non-specific interstitial opacities and bronchiectasis seen at the right\n",
      "     base, suggestive of post-inflammatory changes.\n"
     ]
    }
   ],
   "source": [
    "report = reports[0]\n",
    "print(report)"
   ]
  },
  {
   "cell_type": "markdown",
   "metadata": {},
   "source": [
    "#### Create a ``ConTextDocument``\n",
    "\n",
    "``ConTextDocument`` is a class for organizing the markup of multiple sentences. It has a private attribute that is NetworkX DiGraph that represents the document structure. In this exmaple we only use the ``ConTextDocument`` class to collect multiple sentence markups."
   ]
  },
  {
   "cell_type": "code",
   "execution_count": 6,
   "metadata": {
    "collapsed": false
   },
   "outputs": [],
   "source": [
    "context = pyConText.ConTextDocument()"
   ]
  },
  {
   "cell_type": "markdown",
   "metadata": {},
   "source": [
    "####  Split the document into sentences and process each sentence\n",
    "\n",
    "pyConTextNLP comes with a simple sentence splitter in ``helper.py``. I have not been maintaining this and have recently been using TextBlob to split sentences. A known problem with either sentence splitting solution is enumerated lists that don't use periods."
   ]
  },
  {
   "cell_type": "code",
   "execution_count": 7,
   "metadata": {
    "collapsed": true
   },
   "outputs": [],
   "source": [
    "blob = TextBlob(report.lower())\n",
    "count = 0\n",
    "rslts = []\n",
    "for s in blob.sentences:\n",
    "    m = markup_sentence(s.raw, modifiers=modifiers, targets=targets)\n",
    "    rslts.append(m)\n",
    "\n",
    "for r in rslts:\n",
    "    context.addMarkup(r)"
   ]
  },
  {
   "cell_type": "markdown",
   "metadata": {},
   "source": [
    "### Displaying pyConTextNLP Markups\n",
    "\n",
    "The ``display`` subpackage contains some functionality for visualizing the markups. Here I use HTML to color-code identified concepts."
   ]
  },
  {
   "cell_type": "code",
   "execution_count": 8,
   "metadata": {
    "collapsed": true
   },
   "outputs": [],
   "source": [
    "clrs = {\\\n",
    "    \"bowel_obstruction\": \"blue\",\n",
    "    \"inflammation\": \"blue\",\n",
    "    \"definite_negated_existence\": \"red\",\n",
    "    \"probable_negated_existence\": \"indianred\",\n",
    "    \"ambivalent_existence\": \"orange\",\n",
    "    \"probable_existence\": \"forestgreen\",\n",
    "    \"definite_existence\": \"green\",\n",
    "    \"historical\": \"goldenrod\",\n",
    "    \"indication\": \"pink\",\n",
    "    \"acute\": \"golden\"\n",
    "}"
   ]
  },
  {
   "cell_type": "code",
   "execution_count": 9,
   "metadata": {
    "collapsed": false
   },
   "outputs": [
    {
     "data": {
      "text/html": [
       "<p> impression: <span style=\"color: pink;\">evaluation</span> limited by lack of iv contrast; <span style=\"color: black;\">however</span>, <span style=\"color: red;\">no evidence of</span> <span style=\"color: blue;\">bowel obstruction</span> or mass identified within the abdomen or pelvis. non-specific interstitial opacities and bronchiectasis seen at the right base, <span style=\"color: forestgreen;\">suggestive</span> of post-<span style=\"color: blue;\">inflammatory</span> changes. </p>"
      ],
      "text/plain": [
       "<IPython.core.display.HTML object>"
      ]
     },
     "metadata": {},
     "output_type": "display_data"
    }
   ],
   "source": [
    "display(HTML(html.mark_document_with_html(context,colors = clrs, default_color=\"black\")))"
   ]
  },
  {
   "cell_type": "markdown",
   "metadata": {},
   "source": [
    "### There is also a rich XML description of the ``ConTextDocument``"
   ]
  },
  {
   "cell_type": "code",
   "execution_count": 10,
   "metadata": {
    "collapsed": false
   },
   "outputs": [
    {
     "name": "stdout",
     "output_type": "stream",
     "text": [
      "\n",
      "<ConTextDocument>\n",
      "impression: evaluation limited by lack of iv contrast; however, no evidence of bowel obstruction or mass identified within the abdomen or pelvis. non-specific interstitial opacities and bronchiectasis seen at the right base, suggestive of post-inflammatory changes. <section>\n",
      "<sectionLabel> document </sectionLabel>\n",
      "<sentence>\n",
      "<sentenceNumber> 0 </sentenceNumber>\n",
      "<sentenceOffset> 0 </sentenceOffset></sentence>\n",
      "\n",
      "<ConTextMarkup>\n",
      "<rawText> impression: evaluation limited by lack of iv contrast; however, no evidence of\n",
      "      bowel obstruction or mass identified within the abdomen or pelvis. </rawText>\n",
      "<cleanText> impression: evaluation limited by lack of iv contrast; however, no evidence of bowel obstruction or mass identified within the abdomen or pelvis. </cleanText>\n",
      "<nodes>\n",
      "\n",
      "<node>\n",
      "<category> modifier </category>\n",
      "\n",
      "<tagObject>\n",
      "<id> 334788564763292261959162205299098966992 </id>\n",
      "<phrase> evaluation </phrase>\n",
      "<literal> evaluation </literal>\n",
      "<category> ['indication'] </category>\n",
      "<spanStart> 12 </spanStart>\n",
      "<spanStop> 22 </spanStop>\n",
      "<scopeStart> 0 </scopeStart>\n",
      "<scopeStop> 55 </scopeStop>\n",
      "</tagObject>\n",
      "<modifiedBy>\n",
      "<modifyingNode> 334822605143316515627910843029918243792 </modifyingNode>\n",
      "<modifyingCategory> ['conj'] </modifyingCategory>\n",
      "</modifiedBy>\n",
      "\n",
      "</node>\n",
      "\n",
      "<node>\n",
      "<category> modifier </category>\n",
      "\n",
      "<tagObject>\n",
      "<id> 334822605143316515627910843029918243792 </id>\n",
      "<phrase> however </phrase>\n",
      "<literal> however </literal>\n",
      "<category> ['conj'] </category>\n",
      "<spanStart> 55 </spanStart>\n",
      "<spanStop> 62 </spanStop>\n",
      "<scopeStart> 0 </scopeStart>\n",
      "<scopeStop> 145 </scopeStop>\n",
      "</tagObject>\n",
      "<modifies>\n",
      "<modifiedNode> 334788564763292261959162205299098966992 </modifiedNode>\n",
      "</modifies>\n",
      "\n",
      "</node>\n",
      "\n",
      "<node>\n",
      "<category> modifier </category>\n",
      "\n",
      "<tagObject>\n",
      "<id> 334809205284190478100466625343833693136 </id>\n",
      "<phrase> no evidence of </phrase>\n",
      "<literal> no evidence of </literal>\n",
      "<category> ['definite_negated_existence'] </category>\n",
      "<spanStart> 64 </spanStart>\n",
      "<spanStop> 78 </spanStop>\n",
      "<scopeStart> 78 </scopeStart>\n",
      "<scopeStop> 145 </scopeStop>\n",
      "</tagObject>\n",
      "<modifies>\n",
      "<modifiedNode> 334829410050194865794993376561114569680 </modifiedNode>\n",
      "</modifies>\n",
      "\n",
      "</node>\n",
      "\n",
      "<node>\n",
      "<category> target </category>\n",
      "\n",
      "<tagObject>\n",
      "<id> 334829410050194865794993376561114569680 </id>\n",
      "<phrase> bowel obstruction </phrase>\n",
      "<literal> bowel obstruction </literal>\n",
      "<category> ['bowel_obstruction'] </category>\n",
      "<spanStart> 79 </spanStart>\n",
      "<spanStop> 96 </spanStop>\n",
      "<scopeStart> 0 </scopeStart>\n",
      "<scopeStop> 145 </scopeStop>\n",
      "</tagObject>\n",
      "<modifiedBy>\n",
      "<modifyingNode> 334809205284190478100466625343833693136 </modifyingNode>\n",
      "<modifyingCategory> ['definite_negated_existence'] </modifyingCategory>\n",
      "</modifiedBy>\n",
      "\n",
      "</node>\n",
      "\n",
      "</nodes>\n",
      "<edges>\n",
      "\n",
      "<edge>\n",
      "<startNode> 334822605143316515627910843029918243792 </startNode>\n",
      "<endNode> 334788564763292261959162205299098966992 </endNode>\n",
      "\n",
      "</edge>\n",
      "\n",
      "<edge>\n",
      "<startNode> 334809205284190478100466625343833693136 </startNode>\n",
      "<endNode> 334829410050194865794993376561114569680 </endNode>\n",
      "\n",
      "</edge>\n",
      "\n",
      "</edges>\n",
      "</ConTextMarkup>\n",
      "<sentence>\n",
      "<sentenceNumber> 1 </sentenceNumber>\n",
      "<sentenceOffset> 146 </sentenceOffset></sentence>\n",
      "\n",
      "<ConTextMarkup>\n",
      "<rawText> non-specific interstitial opacities and bronchiectasis seen at the right\n",
      "     base, suggestive of post-inflammatory changes. </rawText>\n",
      "<cleanText> non-specific interstitial opacities and bronchiectasis seen at the right base, suggestive of post-inflammatory changes. </cleanText>\n",
      "<nodes>\n",
      "\n",
      "<node>\n",
      "<category> modifier </category>\n",
      "\n",
      "<tagObject>\n",
      "<id> 334836656416394745438541320585217498064 </id>\n",
      "<phrase> suggestive </phrase>\n",
      "<literal> suggest </literal>\n",
      "<category> ['probable_existence'] </category>\n",
      "<spanStart> 79 </spanStart>\n",
      "<spanStop> 89 </spanStop>\n",
      "<scopeStart> 0 </scopeStart>\n",
      "<scopeStop> 119 </scopeStop>\n",
      "</tagObject>\n",
      "<modifies>\n",
      "<modifiedNode> 334838179023221944569285845470032616400 </modifiedNode>\n",
      "</modifies>\n",
      "\n",
      "</node>\n",
      "\n",
      "<node>\n",
      "<category> target </category>\n",
      "\n",
      "<tagObject>\n",
      "<id> 334838179023221944569285845470032616400 </id>\n",
      "<phrase> inflammatory </phrase>\n",
      "<literal> inflammation </literal>\n",
      "<category> ['inflammation'] </category>\n",
      "<spanStart> 98 </spanStart>\n",
      "<spanStop> 110 </spanStop>\n",
      "<scopeStart> 0 </scopeStart>\n",
      "<scopeStop> 119 </scopeStop>\n",
      "</tagObject>\n",
      "<modifiedBy>\n",
      "<modifyingNode> 334836656416394745438541320585217498064 </modifyingNode>\n",
      "<modifyingCategory> ['probable_existence'] </modifyingCategory>\n",
      "</modifiedBy>\n",
      "\n",
      "</node>\n",
      "\n",
      "</nodes>\n",
      "<edges>\n",
      "\n",
      "<edge>\n",
      "<startNode> 334836656416394745438541320585217498064 </startNode>\n",
      "<endNode> 334838179023221944569285845470032616400 </endNode>\n",
      "\n",
      "</edge>\n",
      "\n",
      "</edges>\n",
      "</ConTextMarkup>\n",
      "</section>\n",
      "\n",
      "</ConTextDocument>\n",
      "\n"
     ]
    }
   ],
   "source": [
    "print(context.getXML())"
   ]
  }
 ],
 "metadata": {
  "kernelspec": {
   "display_name": "Python 3",
   "language": "python",
   "name": "python3"
  },
  "language_info": {
   "codemirror_mode": {
    "name": "ipython",
    "version": 3
   },
   "file_extension": ".py",
   "mimetype": "text/x-python",
   "name": "python",
   "nbconvert_exporter": "python",
   "pygments_lexer": "ipython3",
   "version": "3.5.2"
  }
 },
 "nbformat": 4,
 "nbformat_minor": 0
}
