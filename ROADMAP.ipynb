{
 "cells": [
  {
   "cell_type": "markdown",
   "metadata": {},
   "source": [
    "# Roadmap for NLM Clinical NLP Course\n",
    "\n",
    "#### Go to jupyterhub.med.utah.edu\n",
    "#### Authenticate with GitHub\n",
    "#### Open terminal\n",
    "#### ``git clone https://github.com/chapmanbe/nlm_clinical_nlp.git``\n",
    "\n",
    "1. [Introduction](./IntroductionToPyConTextNLP.ipynb)\n",
    "1. [Walk through a basic document markup](./BasicSentenceMarkup.ipynb)\n",
    "1. [Build your own NLP system](./DocumentClassificationNLMStudent.ipynb)\n",
    "1. [Compare your system to ours](./DocumentClassificationNLM.ipynb)\n",
    "\n",
    "## Additional Notebooks\n",
    "\n",
    "1. [A more detailed markup tutorial](./BasicSentenceMarkupPart2.ipynb)\n",
    "1. [A multisentence markup tutorial](./MultiSentenceDocuments.ipynb)\n",
    "1. [An introduction to regular expressions](./MultiSentenceDocuments.ipynb)"
   ]
  },
  {
   "cell_type": "code",
   "execution_count": null,
   "metadata": {
    "collapsed": true
   },
   "outputs": [],
   "source": []
  }
 ],
 "metadata": {
  "kernelspec": {
   "display_name": "Python 3",
   "language": "python",
   "name": "python3"
  },
  "language_info": {
   "codemirror_mode": {
    "name": "ipython",
    "version": 3
   },
   "file_extension": ".py",
   "mimetype": "text/x-python",
   "name": "python",
   "nbconvert_exporter": "python",
   "pygments_lexer": "ipython3",
   "version": "3.5.2"
  }
 },
 "nbformat": 4,
 "nbformat_minor": 1
}
