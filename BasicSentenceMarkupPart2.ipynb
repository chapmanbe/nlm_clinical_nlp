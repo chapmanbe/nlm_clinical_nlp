{
 "cells": [
  {
   "cell_type": "markdown",
   "metadata": {},
   "source": [
    "# Demonstration of Basic Sentence Markup with pyConTextNLP, Part 2.\n",
    "## An ever-so-slightly more complex sentence\n",
    "\n",
    "### Let's use a slightly more complex sentence that will illustrate pruning."
   ]
  },
  {
   "cell_type": "code",
   "execution_count": 1,
   "metadata": {
    "collapsed": true
   },
   "outputs": [],
   "source": [
    "import pyConTextNLP.pyConTextGraph as pyConText\n",
    "import pyConTextNLP.itemData as itemData\n",
    "import networkx as nx"
   ]
  },
  {
   "cell_type": "markdown",
   "metadata": {},
   "source": [
    "### Sentences\n",
    "\n",
    "These example reports are taken from (with modification) the [MIMIC2 demo data set](https://physionet.org/mimic2/) that is a publically available database of de-identified medical records for deceased individuals. "
   ]
  },
  {
   "cell_type": "code",
   "execution_count": 2,
   "metadata": {
    "collapsed": true
   },
   "outputs": [],
   "source": [
    "reports = [\n",
    "    \"\"\"IMPRESSION: Evaluation limited by lack of IV contrast; however, no evidence of\n",
    "      bowel obstruction or mass identified within the abdomen or pelvis. Non-specific interstitial opacities and bronchiectasis seen at the right\n",
    "     base, suggestive of post-inflammatory changes.\"\"\",\n",
    "    \"\"\"IMPRESSION: Evidence of early pulmonary vascular congestion and interstitial edema. Probable scarring at the medial aspect of the right lung base, with no\n",
    "     definite consolidation.\"\"\"\n",
    "    ,\n",
    "    \"\"\"IMPRESSION:\n",
    "     \n",
    "     1.  2.0 cm cyst of the right renal lower pole.  Otherwise, normal appearance\n",
    "     of the right kidney with patent vasculature and no sonographic evidence of\n",
    "     renal artery stenosis.\n",
    "     2.  Surgically absent left kidney.\"\"\",\n",
    "    \"\"\"IMPRESSION:  No pneumothorax.\"\"\",\n",
    "    \"\"\"IMPRESSION: No definite pneumothorax\"\"\",\n",
    "    \"\"\"IMPRESSION:  New opacity at the left lower lobe consistent with pneumonia.\"\"\"\n",
    "]"
   ]
  },
  {
   "cell_type": "markdown",
   "metadata": {},
   "source": [
    "### Read the ``itemData`` definitions"
   ]
  },
  {
   "cell_type": "code",
   "execution_count": 3,
   "metadata": {
    "collapsed": false
   },
   "outputs": [],
   "source": [
    "modifiers = itemData.instantiateFromCSVtoitemData(\n",
    "    \"https://raw.githubusercontent.com/chapmanbe/pyConTextNLP/master/KB/lexical_kb_05042016.tsv\")\n",
    "targets = itemData.instantiateFromCSVtoitemData(\n",
    "    \"https://raw.githubusercontent.com/chapmanbe/pyConTextNLP/master/KB/utah_crit.tsv\")\n"
   ]
  },
  {
   "cell_type": "markdown",
   "metadata": {},
   "source": [
    "### We're going to start with our simplest of sentences"
   ]
  },
  {
   "cell_type": "code",
   "execution_count": 4,
   "metadata": {
    "collapsed": false
   },
   "outputs": [
    {
     "data": {
      "text/plain": [
       "'IMPRESSION: No definite pneumothorax'"
      ]
     },
     "execution_count": 4,
     "metadata": {},
     "output_type": "execute_result"
    }
   ],
   "source": [
    "reports[4]"
   ]
  },
  {
   "cell_type": "markdown",
   "metadata": {},
   "source": [
    "### marking up a sentence\n",
    "\n",
    "We start by creating an instance of the ``ConTextMarkup`` class. This is a subclass of a NetworkX DiGraph. Information will be stored in the nodes and edges. "
   ]
  },
  {
   "cell_type": "code",
   "execution_count": 5,
   "metadata": {
    "collapsed": true
   },
   "outputs": [],
   "source": [
    "markup = pyConText.ConTextMarkup()"
   ]
  },
  {
   "cell_type": "code",
   "execution_count": 6,
   "metadata": {
    "collapsed": false
   },
   "outputs": [
    {
     "name": "stdout",
     "output_type": "stream",
     "text": [
      "__________________________________________\n",
      "rawText: impression: no definite pneumothorax\n",
      "cleanedText: None\n",
      "__________________________________________\n",
      "\n",
      "36\n",
      "__________________________________________\n",
      "rawText: impression: no definite pneumothorax\n",
      "cleanedText: impression: no definite pneumothorax\n",
      "__________________________________________\n",
      "\n",
      "36\n"
     ]
    }
   ],
   "source": [
    "markup.setRawText(reports[4].lower())\n",
    "print(markup)\n",
    "print(len(markup.getRawText()))\n",
    "\n",
    "markup.cleanText()\n",
    "print(markup)\n",
    "print(len(markup.getText()))"
   ]
  },
  {
   "cell_type": "markdown",
   "metadata": {},
   "source": [
    "#### Identify concepts in the sentence\n"
   ]
  },
  {
   "cell_type": "code",
   "execution_count": 7,
   "metadata": {
    "collapsed": false
   },
   "outputs": [
    {
     "name": "stdout",
     "output_type": "stream",
     "text": [
      "[(<id> 114731505145955200893208409019887573968 </id> <phrase> pneumothorax </phrase> <category> ['pneumothorax'] </category> , {'category': 'target'}), (<id> 114707835890860389453644815748134525904 </id> <phrase> no </phrase> <category> ['definite_negated_existence'] </category> , {'category': 'modifier'}), (<id> 114696347015014195979537648822800276432 </id> <phrase> definite </phrase> <category> ['definite_existence'] </category> , {'category': 'modifier'}), (<id> 114708186079338702499480608197255289808 </id> <phrase> no definite </phrase> <category> ['definite_negated_existence'] </category> , {'category': 'modifier'})]\n"
     ]
    }
   ],
   "source": [
    "markup.markItems(modifiers, mode=\"modifier\")\n",
    "markup.markItems(targets, mode=\"target\")\n",
    "print(markup.nodes(data=True))\n"
   ]
  },
  {
   "cell_type": "markdown",
   "metadata": {},
   "source": [
    "#### What does our initial markup look like?\n",
    "\n",
    "* We've identified three concepts in the sentence: \n",
    "    1. \"no\"\n",
    "    1. \"no definite\"\n",
    "    1. \"pneumothorax\"\n",
    "* Here \"no\" is not a true concept in the sentence; it is a subset of the concept \"no definite\""
   ]
  },
  {
   "cell_type": "markdown",
   "metadata": {},
   "source": [
    "#### Prune Marks\n",
    "\n",
    "After identifying concepts, we prune concepts that are a subset of another identified concept."
   ]
  },
  {
   "cell_type": "code",
   "execution_count": 8,
   "metadata": {
    "collapsed": false
   },
   "outputs": [
    {
     "name": "stdout",
     "output_type": "stream",
     "text": [
      "[<id> 114731505145955200893208409019887573968 </id> <phrase> pneumothorax </phrase> <category> ['pneumothorax'] </category> , <id> 114708186079338702499480608197255289808 </id> <phrase> no definite </phrase> <category> ['definite_negated_existence'] </category> ]\n"
     ]
    }
   ],
   "source": [
    "markup.pruneMarks()\n",
    "print(markup.nodes())"
   ]
  },
  {
   "cell_type": "markdown",
   "metadata": {},
   "source": [
    "#### What is the effect of ``pruneMarks``\n",
    "\n",
    "We've correctly dropped ``no`` as an identified concept."
   ]
  },
  {
   "cell_type": "markdown",
   "metadata": {},
   "source": [
    "#### Apply modifiers\n",
    "\n",
    "We now call the ``applyModifiers`` method of the ConTextMarkup object to identify any relationships between the nodes."
   ]
  },
  {
   "cell_type": "code",
   "execution_count": 9,
   "metadata": {
    "collapsed": false
   },
   "outputs": [
    {
     "name": "stdout",
     "output_type": "stream",
     "text": [
      "[(<id> 114708186079338702499480608197255289808 </id> <phrase> no definite </phrase> <category> ['definite_negated_existence'] </category> , <id> 114731505145955200893208409019887573968 </id> <phrase> pneumothorax </phrase> <category> ['pneumothorax'] </category> )]\n"
     ]
    }
   ],
   "source": [
    "markup.applyModifiers()\n",
    "print(markup.edges())"
   ]
  },
  {
   "cell_type": "markdown",
   "metadata": {},
   "source": [
    "### Here is a notebook for [Multisentence Documents](./MultiSentenceDocuments.ipynb)"
   ]
  }
 ],
 "metadata": {
  "kernelspec": {
   "display_name": "Python 3",
   "language": "python",
   "name": "python3"
  },
  "language_info": {
   "codemirror_mode": {
    "name": "ipython",
    "version": 3
   },
   "file_extension": ".py",
   "mimetype": "text/x-python",
   "name": "python",
   "nbconvert_exporter": "python",
   "pygments_lexer": "ipython3",
   "version": "3.5.1"
  }
 },
 "nbformat": 4,
 "nbformat_minor": 0
}
