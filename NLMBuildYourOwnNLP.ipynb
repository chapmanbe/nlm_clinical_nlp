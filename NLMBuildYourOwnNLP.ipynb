{
 "cells": [
  {
   "cell_type": "markdown",
   "metadata": {},
   "source": [
    "# Classifying Documents"
   ]
  },
  {
   "cell_type": "markdown",
   "metadata": {},
   "source": [
    "In this notebook we demonstrate a basic document level classification of reports with respect to a single finding ( fever). We leverage the convenience of Pandas to read our data from a MySQL database and then use Pandas to add our classification as a new column in the dataframe.\n",
    "\n",
    "Many of the common pyConTextNLP tasks have been wrapped into functions contained in the [``radnlp``](https://github.com/chapmanbe/RadNLP) pacakge. We important multiple modules that will allow us to write concise code."
   ]
  },
  {
   "cell_type": "code",
   "execution_count": 12,
   "metadata": {
    "collapsed": false
   },
   "outputs": [
    {
     "data": {
      "text/html": [
       "<div>\n",
       "<table border=\"1\" class=\"dataframe\">\n",
       "  <thead>\n",
       "    <tr style=\"text-align: right;\">\n",
       "      <th></th>\n",
       "      <th>text</th>\n",
       "      <th>impression</th>\n",
       "      <th>code</th>\n",
       "    </tr>\n",
       "  </thead>\n",
       "  <tbody>\n",
       "    <tr>\n",
       "      <th>0</th>\n",
       "      <td>\\n\\n\\n     DATE: [**2721-6-30**] 9:45 PM\\n    ...</td>\n",
       "      <td>Small focal opacity in right upper lobe and ...</td>\n",
       "      <td>415.19</td>\n",
       "    </tr>\n",
       "    <tr>\n",
       "      <th>1</th>\n",
       "      <td>\\n\\n\\n     DATE: [**3099-10-20**] 5:55 PM\\n   ...</td>\n",
       "      <td>Limited study.  The tracheal component of th...</td>\n",
       "      <td>415.11</td>\n",
       "    </tr>\n",
       "    <tr>\n",
       "      <th>2</th>\n",
       "      <td>\\n\\n\\n     DATE: [**3099-10-24**] 3:59 PM\\n   ...</td>\n",
       "      <td>\\n     \\n     Tracheal stent extending from th...</td>\n",
       "      <td>415.11</td>\n",
       "    </tr>\n",
       "    <tr>\n",
       "      <th>3</th>\n",
       "      <td>\\n\\n\\n     DATE: [**3099-11-4**] 11:04 PM\\n   ...</td>\n",
       "      <td>\\n     \\n     Increased density in the retroca...</td>\n",
       "      <td>415.11</td>\n",
       "    </tr>\n",
       "    <tr>\n",
       "      <th>4</th>\n",
       "      <td>\\n\\n\\n     DATE: [**3099-11-6**] 5:36 PM\\n    ...</td>\n",
       "      <td>\\n     1.  Pulmonary embolism with  filling de...</td>\n",
       "      <td>415.11</td>\n",
       "    </tr>\n",
       "  </tbody>\n",
       "</table>\n",
       "</div>"
      ],
      "text/plain": [
       "                                                text  \\\n",
       "0  \\n\\n\\n     DATE: [**2721-6-30**] 9:45 PM\\n    ...   \n",
       "1  \\n\\n\\n     DATE: [**3099-10-20**] 5:55 PM\\n   ...   \n",
       "2  \\n\\n\\n     DATE: [**3099-10-24**] 3:59 PM\\n   ...   \n",
       "3  \\n\\n\\n     DATE: [**3099-11-4**] 11:04 PM\\n   ...   \n",
       "4  \\n\\n\\n     DATE: [**3099-11-6**] 5:36 PM\\n    ...   \n",
       "\n",
       "                                          impression    code  \n",
       "0    Small focal opacity in right upper lobe and ...  415.19  \n",
       "1    Limited study.  The tracheal component of th...  415.11  \n",
       "2  \\n     \\n     Tracheal stent extending from th...  415.11  \n",
       "3  \\n     \\n     Increased density in the retroca...  415.11  \n",
       "4  \\n     1.  Pulmonary embolism with  filling de...  415.11  "
      ]
     },
     "execution_count": 12,
     "metadata": {},
     "output_type": "execute_result"
    }
   ],
   "source": [
    "from utils import *\n",
    "import pandas as pd\n",
    "options = {}\n",
    "options['lexical_kb'] = [\"https://raw.githubusercontent.com/chapmanbe/pyConTextNLP/master/KB/lexical_kb_nlm.tsv\"]\n",
    "options[\"schema\"] = \"https://raw.githubusercontent.com/chapmanbe/pyConTextNLP/master/KB/schema2.csv\"\n",
    "options[\"rules\"] = \"https://raw.githubusercontent.com/chapmanbe/pyConTextNLP/master/KB/classificationRules3.csv\"\n",
    "\n",
    "data = get_data()\n",
    "data.head(5)"
   ]
  },
  {
   "cell_type": "markdown",
   "metadata": {},
   "source": [
    "### Document Classification\n",
    "\n",
    "#### Modify ``targets`` and ``modifiers`` as demonstrated below. \n",
    "* You can have as many enteries per disease as you want (e.g. the two 4-tuples for pulmonary embolism).\n",
    "\n",
    "#### Define a color value for each category you define\n",
    "* Color names need to be valid HTML colors. You might need to experiment.\n",
    "\n",
    "We now need to apply our schema to the reports. Since our data is in a Pandas data frame, the easiest way to process our reports is with the DataFrame [``apply``](http://pandas.pydata.org/pandas-docs/stable/generated/pandas.DataFrame.apply.html) method.\n",
    "    "
   ]
  },
  {
   "cell_type": "code",
   "execution_count": 10,
   "metadata": {
    "collapsed": false
   },
   "outputs": [],
   "source": [
    "\n",
    "radnlp_rules = rules.read_rules(options[\"rules\"])\n",
    "myschema = schema.read_schema(options[\"schema\"])\n",
    "\n",
    "modifiers = itemData.itemData()\n",
    "targets = itemData.itemData()\n",
    "for kb in options['lexical_kb']:\n",
    "    modifiers.extend( itemData.instantiateFromCSVtoitemData(kb) )\n",
    "targets.extend([[\"pulmonary embolism\", \"PULMONARY_EMBOLISM\", \"\", \"\"],\n",
    "                [\"pulmonary emboli\", \"PULMONARY_EMBOLISM\", \"\", \"\"],\n",
    "               [\"pneumonia\", \"LUNG_DISEASE\", \"\", \"\"]])\n",
    "modifiers.extend(([\"no definite\", \"PROBABLE_NEGATED_EXISTENCE\", \"\", \"forward\"],\n",
    "                  [\"no\", \"DEFINITE_NEGATED_EXISTENCE\", \"\", \"forward\"],))\n",
    "\n",
    "colors = {\"pulmonary_embolism\":\"blue\",\n",
    "          \"lung_disease\":\"turquoise\",\n",
    "          \"probable_negated_existence\":\"pink\",\n",
    "          \"definite_negated_existence\":\"red\",\n",
    "          \"probable_existence\":\"green\",\n",
    "          \"conj\":\"goldenrod\",\n",
    "         }\n",
    "#data = data.dropna()\n",
    "\n",
    "data[\"pe rslt\"] = \\\n",
    "    data.apply(lambda x: analyze_report(x[\"impression\"], \n",
    "                                         modifiers, \n",
    "                                         targets,\n",
    "                                         radnlp_rules,\n",
    "                                         myschema), axis=1)"
   ]
  },
  {
   "cell_type": "code",
   "execution_count": 11,
   "metadata": {
    "collapsed": false
   },
   "outputs": [
    {
     "data": {
      "image/png": "[encoded data removed]",
      "text/plain": [
       "<IPython.core.display.Image object>"
      ]
     },
     "metadata": {},
     "output_type": "display_data"
    },
    {
     "data": {
      "text/html": [
       "\n",
       "          <table style=\"width:100\">\n",
       "          <caption>PE Finder Case Review</caption>\n",
       "          <tr><th>report</th><th>classification</th></tr>\n",
       "          <tr><td width='500'><p>  Normal lower extremity ultrasound bilaterally. </p></td><td width='400'></td></tr>\n",
       "          </table>"
      ],
      "text/plain": [
       "<IPython.core.display.HTML object>"
      ]
     },
     "metadata": {},
     "output_type": "display_data"
    }
   ],
   "source": [
    "view_markup(data, colors)"
   ]
  },
  {
   "cell_type": "code",
   "execution_count": null,
   "metadata": {
    "collapsed": true
   },
   "outputs": [],
   "source": []
  }
 ],
 "metadata": {
  "kernelspec": {
   "display_name": "Python 3",
   "language": "python",
   "name": "python3"
  },
  "language_info": {
   "codemirror_mode": {
    "name": "ipython",
    "version": 3
   },
   "file_extension": ".py",
   "mimetype": "text/x-python",
   "name": "python",
   "nbconvert_exporter": "python",
   "pygments_lexer": "ipython3",
   "version": "3.5.2"
  },
  "widgets": {
   "state": {
    "31a6a257d28847ed8b085e5511848a77": {
     "views": [
      {
       "cell_index": 6
      }
     ]
    }
   },
   "version": "1.2.0"
  }
 },
 "nbformat": 4,
 "nbformat_minor": 0
}
